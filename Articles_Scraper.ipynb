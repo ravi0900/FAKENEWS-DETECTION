{
 "cells": [
  {
   "cell_type": "markdown",
   "id": "9d293d05",
   "metadata": {},
   "source": [
    "## Automate news article collection for training the model using web scraper "
   ]
  },
  {
   "cell_type": "markdown",
   "id": "8f5023ad",
   "metadata": {},
   "source": [
    "#### Import libraries for web scraping"
   ]
  },
  {
   "cell_type": "code",
   "execution_count": 6,
   "id": "3def005f",
   "metadata": {},
   "outputs": [],
   "source": [
    "from bs4 import BeautifulSoup\n",
    "from urllib.request import Request, urlopen"
   ]
  },
  {
   "cell_type": "markdown",
   "id": "2d1c263f",
   "metadata": {},
   "source": [
    "In this example, we demonstrate web scraping of news articles on the web application **Factly**. You can use any application of your choice"
   ]
  },
  {
   "cell_type": "code",
   "execution_count": 7,
   "id": "b39bda86",
   "metadata": {},
   "outputs": [],
   "source": [
    "url = \"https://factly.in/category/english/\"\n",
    "req = Request(url, headers={'User-Agent': 'Mozilla/5.0'})\n",
    "webpage = urlopen(req)"
   ]
  },
  {
   "cell_type": "code",
   "execution_count": 8,
   "id": "30122e6c",
   "metadata": {},
   "outputs": [],
   "source": [
    "html = webpage.read().decode(\"utf-8\")\n",
    "soup = BeautifulSoup(html, \"html.parser\")"
   ]
  },
  {
   "cell_type": "markdown",
   "id": "1bc72462",
   "metadata": {},
   "source": [
    "The HTML document of the page was analysed and as a result the below logic is applied to scrape the articles."
   ]
  },
  {
   "cell_type": "code",
   "execution_count": 9,
   "id": "30648cef",
   "metadata": {},
   "outputs": [],
   "source": [
    "articles = [article.find(\"h2\").find(\"a\").get(\"href\") for article in soup.find(class_ = \"col-8 main-content\").find_all(\"article\")]"
   ]
  },
  {
   "cell_type": "code",
   "execution_count": 10,
   "id": "e2ddbe7d",
   "metadata": {},
   "outputs": [
    {
     "data": {
      "text/plain": [
       "['https://factly.in/old-video-of-justin-trudeau-before-he-became-the-pm-of-canada-shared-as-him-living-now-without-security/',\n",
       " 'https://factly.in/ram-nath-kovind-has-not-made-these-statements-praising-mahatma-gandhi-and-the-congress-party/',\n",
       " 'https://factly.in/ruchi-soyas-debt-of-%e2%82%b92212-crores-was-written-off-even-before-its-acquisition-by-patanjali-ayurvedic/',\n",
       " 'https://factly.in/an-edited-photo-is-falsely-shared-as-an-amazing-picture-of-a-golden-snake/',\n",
       " 'https://factly.in/president-droupadi-murmu-did-not-issue-any-orders-prohibiting-non-veg-food-and-alcohol-inside-rashtrapati-bhavan/',\n",
       " 'https://factly.in/old-video-of-a-pakistani-citizen-threatening-an-electricity-officer-in-karachi-shared-as-that-from-india/',\n",
       " 'https://factly.in/the-man-seen-burning-the-indian-national-flag-in-these-photos-has-already-been-arrested/',\n",
       " 'https://factly.in/2017-news-clipping-of-forbes-listing-india-as-asias-most-corrupt-country-is-shared-as-recent/',\n",
       " 'https://factly.in/this-comparison-of-prison-cells-related-to-savarkar-gandhi-and-nehru-is-misleading/',\n",
       " 'https://factly.in/2018-visuals-of-a-waterspout-captured-in-pune-is-shared-as-clouds-pulling-water-from-ganges-in-allahabad/']"
      ]
     },
     "execution_count": 10,
     "metadata": {},
     "output_type": "execute_result"
    }
   ],
   "source": [
    "articles"
   ]
  },
  {
   "cell_type": "code",
   "execution_count": 11,
   "id": "7e171eaf",
   "metadata": {
    "scrolled": false
   },
   "outputs": [
    {
     "name": "stdout",
     "output_type": "stream",
     "text": [
      "Article: \n",
      "A post containing a video of Canadian Prime Minister Justin Trudeau walking into a building without security is widely shared on social media. The post description reads, ‘This is the Prime Minister of Canada; he lives without security.’ Let’s fact-check the claim via this article.Claim: The Prime Minister of Canada, Justin Trudeau, lives without security.Fact: The post contains an old video of Justin Trudeau before he became the Prime Minister of Canada. Contrary to what the post claims, the Canadian Prime Minister is guarded by a special team of the Royal Canadian Mounted Police (RCMP) named Prime Minister’s Protective Detail (PMPD). Hence the claim made in the post is MISLEADING.After doing a reverse image search on the screenshots of the video, we found a longer version of the video on YouTube. CBS News uploaded the video, and its title reads. ‘Exclusive: Justin Trudeau arrives at The Peace Tower in Ottawa.’Uploaded on 21st October 2015, the video description reads, ‘The prime minister-designate walks through the doors of The Peace Tower on Parliament Hill for the first time ….’. Justin Trudeau was sworn in as the Prime Minister on 04 November 2015. So, we can conclude that this video is from before he became the PM of Canada.Who Guards the Prime Minister of Canada?The Prime Minister is one of the most important persons in Canada. Prime Minister Justin Trudeau is guarded 24/7 by a special unit of Canada’s Royal Canadian Mounted Police (RCMP) called Prime Minister’s Protective Detail (PPMD).Videos and photos of Mr Trudea accompanied by his security guards are available on the Internet. Some of them can be seen here and here.With this evidence, we can conclude that Canadian PM Justin Trudeau is accompanied by his security guards and the post claims incorrectly that he lives without any security guards.To sum it up, old video of Justin Trudeau before he became the PM of Canada is being shared as him living now without security. \n",
      "\n",
      "Nature of the article: MISLEADING\n",
      "\n",
      "\n",
      "\n",
      "Article: \n",
      "A post is being shared on social media with a description that reads, ‘India can progress in the world only by following Gandhi’s path; Congress has taken this country far ahead-Ram Nath Kovind, Ex-President.’ Let’s verify these claims.Claim: Ram Nath Kovind said that India could progress in the world only by following Gandhi’s path and that Congress has taken our country far ahead.Fact: Ram Nath Kovind has never directly said what the post claims, but in his message to the nation on the eve of Gandhi Jayanthi, he said ‘Let us take a pledge that we will continue to strive for making India a country of his (Gandhi) dreams while adhering to his teachings, ideals and values.” In a different speech he gave on the eve of 2021 Republic Day, he spoke about the contributions of our freedom fighters. He has not said anything about the Congress party as claimed in the post. Hence the post is MISLEADING.We searched the internet with relevant keywords and found several posts similar to the post; one even dates back to 2018. These posts can be seen here and here. We then searched to  check if the former President has made those comments as the post claims. Had the former President of India made these statements, media would have reported the statement widely. But no relevant news reports were found to indicate that he made those statements about the Congress party.Then we looked at various speeches of Ram Nath Kovind to further know if he had made such statements. Addressing the nation on the eve of Gandhi Jayanthi in 2021, the former President has said, “Let us take a pledge that we will continue to strive for making India a country of his dreams while adhering to his teachings, ideals and values.” However, he did not make the exact statement as claimed in the post.From the message he gave on the eve of Gandhi Jayanthi in 2020, we found that he said, ‘On this auspicious occasion of Gandhi Jayanti, let us resolve to rededicate ourselves to the welfare and progress of the nation, to follow the mantra of truth and non-violence, and to build a clean, capable, strong and prosperous India, and to make Gandhiji’s dreams come true.’Regarding the statement that the Congress party had taken this country far ahead, we did not find any speech of his where he spoke about the Congress Party. In this year’s President’s address to the nation during republic day, he spoke about the struggle of our freedom fighters.In his Republic day speech of 2020, he said,’ Government and opposition both have important roles to play. While giving expression to their political ideas, both must move forward in tandem to ensure that development of the country and welfare of its people are promoted consistently.’ But he never made any statement on the Congress party as the post claims.To summarise, Ram Nath Kovind has not made these statements praising the Congress Party. \n",
      "\n",
      "Nature of the article: MISLEADING\n",
      "\n",
      "\n",
      "\n",
      "Article: \n",
      "A post is being widely shared on social media claiming that the loan of  ₹2,212 crores taken by Baba Ramdev’s company Ruchi Soya was waived off. Let’s fact-check the claim made in the post.Claim: Ramdev baba owned Ruchi soya company’s debt of ₹2,212 crores was waived off.Fact: According to the RBI report, Ruchi soya’s debt of ₹2,212 crores were technically written off, which means, the lending banks clean up the bad loans from their balance sheet. However, the loan account still stays to continue with the lending bank as they can try to recover it later. Moreover, in December 2017, Ruchi Soya Industries entered the Corporate Insolvency Resolution Process because of its total debt of about ₹12,000 crores. In December 2019, Patanjali Ayurved, co-founded by Baba Ramdev acquired the debt ridden Ruchi Soya for ₹4,350 crores. Hence, the claim made in the post is MISLEADING.We we searched for the list of the ‘Top 50 Wilful defaulters in India’ and found the details in the Twitter account of Saket Gokhale, a spokesperson for All India Trinamool Congress. He filed an RTI petition on 19 March 2020, seeking the information of ‘Top 50 Wilful defaulters & defaulted amount in Indian banking system as on 16 February 2020’. Upon his query, RBI released the list of wilful defaulters as on 30 September 2019.This is why Finance Minister @nsitharaman tried to escape from a straight & clear question asked by Rahul Gandhi. Sadly – the truth can never stay hidden too long. Massive kudos to RG for calling the govt’s bluff way back in March!PS: Here’s the list if anyone missed it 😊 https://t.co/OA4moYdTYz pic.twitter.com/JsaoBewhBT— Saket Gokhale (@SaketGokhale) April 28, 2020 The list shows ‘Ruchi Soya Industries Limited’ whose debt of Rs.2,212 Cr was technically/prudentially written off, which is not same as waived off. As per RBI, write-off just clears the bad loans from the bank balance sheets but these bad accounts still continue to stay in the bank books and the banks try to recover these loans by other means. Writing off a bad loan is not same as waving off.Write-off vs Waive-off:Writing off a loan is a general practice implemented by banks to clean up their balance sheets. In the case of write-off, the lending banks clean up the bad loans from their balance sheet. However, the loan account still stays to continue with the lending bank as they can try to recover it later. Moreover, if any collateral is attached to the loan, then the lender confiscates them. Whereas, in the case of loan waive-off, the lender completely cancels the loan account, and the borrower is free from the debt. If any collateral is linked to the debt, then it will be returned to the borrower.Moreover, in December 2017, Ruchi Soya Industries entered into the Corporate Insolvency Resolution Process because of its total debt of about ₹12,000 crores. In December 2019, Patanjali Ayurved, co-founded by Baba Ramdev acquired the debt ridden Ruchi Soya for ₹4,350 crores. News reports regarding this can be found here, here and here.Hence, it is evident that Ruchi soya’s debt was written off even before its acquisition by Patanjali Ayurved. \n",
      "\n",
      "Nature of the article: MISLEADING\n",
      "\n",
      "\n",
      "\n",
      "Article: \n",
      "A photo is being shared on social media claiming it is an amazing real picture of a golden snake. Sharing the photo, this post asks people to see the golden snake on Naga Panchami to have good fortune. Let’s verify the claim made in the post.Claim: Amazing picture of a golden snake.Fact: The photo shared in the post is an edited picture created using digital tools. This golden snake photo was created by a Brazil-based designer named Mandrak. Hence, the claim made in the post is FALSE. On reverse image search of the photo shared in the post, the same photo was found in an article published by the ‘Wafflesatnoon’ website in December 2015. ‘Wafflesatnoon’ confirmed it as a digitally edited picture by crediting the photo to a designer named Mandrak.When we searched for further details using relevant keywords on the internet, we found the same photo on the ‘Design Crowd’ website. This photo was published by Mandrak, a Brazil-based designer,  as part of the ‘Alternate Materials: Gold’, a photoshop community contest held by the ‘Design Crowd’ website. As part of this contest, participants were asked to convert any ordinary image into pure gold. This golden snake photo designed by Mandrak was ranked the second in the competition. The official portfolio of Mandrak published on the ‘Design Crowd’ website can be seen here. Mandrak published the same photo with the title, “Photoshop Submission for ‘Alternate Materials: Gold’ Contest | Design 8967763”.The original picture from which this design was created can be seen here. Although there are a few reptile species that exist in golden colour, the photo shared in the post is an edited picture and does not show a real picture of a golden snake.To sum it up, an edited photo is falsely shared as an amazing picture of a golden snake. \n",
      "\n",
      "Nature of the article: FALSE\n",
      "\n",
      "\n",
      "\n"
     ]
    },
    {
     "name": "stdout",
     "output_type": "stream",
     "text": [
      "Article: \n",
      "A post is being shared on social media claiming that the new President Droupadi Murmu had issued orders to completely ban any kind of non-vegetarian feasts or drink inside the Rashtrapati Bhavan. Let’s verify the claim made in the post.Claim: President Droupadi Murmu ordered a complete ban on non-vegetarian food and alcohol consumption inside the Rashtrapati Bhavan.Fact: President Droupadi Murmu did not issue any such orders prohibiting non-vegetarian feasts and drinking inside the Rashtrapati Bhavan. PIB Fact-check through a tweet clarified that no such new changes have been made inside the Rashtrapati Bhavan. Hence, the claim made in the post is FALSE.When we searched to check whether President Droupadi Murmu had issued any such new instructions prohibiting non-vegetarian feasts and drinking in Rashtrapati Bhavan, we could not find any news report confirming this news. If President Droupadi Murmu had issued any such orders, the media would have prominently reported it. According to a few media reports, Droupadi Murmu is a pure vegetarian who doesn’t consume onion and garlic.‘PIB Fact Check’ through a tweet clarified that the viral post claiming a complete ban on non-vegetarian food and alcohol consumption inside the Rashtrapati Bhavan is fake, and that no such new changes have been made inside the Rashtrapati Bhavan.Claim: Full ban on any kind of non-vegetarian feast or drink in #RashtrapatiBhawan.#PIBFactCheck ▶️ This claim is #Fake.▶️ No such changes have been made.@rashtrapatibhvn pic.twitter.com/1WyxPoRtH6— PIB Fact Check (@PIBFactCheck) August 3, 2022 Special dinners are served at the Rashtrapati Bhavan during the visits of heads of states of other countries or important persons. For instance, the vegetarian and non-vegetarian menu served at Rashtrapati Bhavan during the dinner banquet hosted in honour of the then US President Donald Trump in February 2020 can be seen here.Delhi: Menu of the dinner banquet at Rashtrapati Bhavan hosted in the honour of US President Donald Trump. pic.twitter.com/qcnwzWkJDz— ANI (@ANI) February 25, 2020 In May 2020, as a part of steps to make more resources available for COVID-19 relief measures, then President Ram Nath Kovind issued instructions to the Rashtrapati Bhavan to set an example by reducing the expenditure, making optimal usage of resources, and dovetailing the saved money to combat COVID-19. As part of this initiative, Ram Nath Kovind instructed Rashtrapati Bhavan to minimise consumption expenses during ceremonial occasions by taking measures like keeping smaller guest lists and reducing the food menu to the extent possible. But even Ram Nath Kovind did not issue orders to completely ban non-vegetarian food inside the Rashtrapati Bhavan.To sum it up, President Droupadi Murmu did not issue any orders banning non-vegetarian food and alcohol consumption inside the Rashtrapati Bhavan. \n",
      "\n",
      "Nature of the article: FALSE\n",
      "\n",
      "\n",
      "\n",
      "Article: \n",
      "A video is being shared on social media claiming it as the visuals of an Indian Muslim citizen openly admitting his act of electricity theft and threatening to kill an officer if power is disconnected to his house. Let’s verify the claim made in the post.Claim: Video of an Indian Muslim citizen openly threatening to kill an officer while admitting the act of electricity theft.Fact: The video shared in the post shows a Pakistani citizen threatening an electricity officer while confessing to stealing electricity. This incident took place in Karachi, in July 2020. The video shared in the post is old and from Pakistan. Hence, the claim made in the post is FALSE.On reverse image search of the screenshots of the video, a video with similar visuals was found in a tweet made by ‘Siasat.pk’ news channel on 28 July 2020. ‘Siasat.pk’ reported it as the visuals of a man boldly confessing to stealing electricity and openly threatening an officer in Karachi.مروں گا یا ماروں گا لیکن کنڈا نہیں اتارنے دوں گا۔ کراچی کا ایک شخص دیدہ دلیری سے بجلی چوری کا اعتراف کرتے ہوئے بدمعاشی کا مظاہرہ کرنے لگاhttps://t.co/m7P590DyEv#kelectric #karachi— Siasat.pk (@siasatpk) July 28, 2020 When we searched for further sources, we found the same video published on the ‘ARY News’ official Facebook page. ‘ARY News’ confirmed it as the video from Karachi and mentioned the accused as Shahri Ataur Rehman. According to the news report, officials from K-Electric Limited, a Pakistan-based power utility company, caught Ataur Rehman red-handed while stealing electricity using a Kunda. Admitting the act of electricity theft, Ataur Rehman had reportedly threatened to kill an officer if he disconnects power to his house.The K-Electric Limited tweeted the same video on 27 July 2020. From all these pieces of evidence, it can be concluded that the video shared in the post shows an old incident that took place in Pakistan, not India.Watch this man caught red handed! #ChoriAurSeenaZori pic.twitter.com/XXZGw5s27t— KE (@KElectricPk) July 27, 2020 To sum it up, an old video of a Pakistani citizen threatening an electricity officer in Karachi is shared as an incident from India. \n",
      "\n",
      "Nature of the article: FALSE\n",
      "\n",
      "\n",
      "\n",
      "Article: \n",
      " Images of a man burning the Indian National flag are being shared on social media through a post. The said post calls out for the man’s arrest. Let’s fact-check the claim.Claim: Police are yet to arrest this man who is seen burning the Indian national flag.Fact: This incident occurred in Tamil Nadu’s Nagapattinam in 2016. The man who burnt the Indian National Flag was Dilipan Mahendran, and the police arrested him. Hence the claim made in the post is MISLEADING.A reverse image search of the post’s photo led us to a news report on the incident by The News Minute. Reportedly, the man seen burning the flag in the pictures has done that to express his frustration against the system. This incident took place in Tamil Nadu in 2016. Multiple news organizations have reported the incident, and we found that his pictures went viral on social media after posting them on his Facebook profile. These reports can be read here, here, and here.This man, Dilipan Mahendran, was later arrested by the police and booked under the Prevention of Insults to National Honour Act and IT Act. Even though Dilipan was arrested in 2016, it is still being claimed that he has not been arrested for the past three years even after posting the images on social media.To sum it up, the man seen burning the Indian National Flag in these photos has already been arrested, contrary to what the post claims. \n",
      "\n",
      "Nature of the article: MISLEADING.\n",
      "\n",
      "\n",
      "\n",
      "Article: \n",
      "A screenshot of a news clipping is being widely shared on social media claiming that American Business Magazine ‘Forbes’ had listed India as the most corrupt country in Asia. Let’s verify the claim made in the post.Claim: Forbes has recently listed India as the most corrupt country in Asia.Fact: The news clipping shared in the post reports the Asia’s Five Most Corrupt Countries published by Forbes in March 2017. With a higher bribery rate percentage of 69%, India was listed as the most corrupt country in Asia. Forbes announced this list based on an 18-month-long survey conducted by Transparency International. According to the latest survey by Transparency International, the bribery rate percentage decreased from 69% to 39% in India. Lately, Forbes did not publish any report listing India as the most corrupt country in Asia. Hence, the claim made in the post is MISLEADING.On reverse image search of the photo shared in the post, we found that the news clipping was being circulated on social media at least since 2017. When we searched to check whether Forbes had listed India as the most corrupt country in Asia, we came to know that Forbes had listed India as the most corrupt country in their Asia’s Five Most Corrupt Countries report published in March 2017. Several news websites published articles reporting this report published by Forbes. They can be seen here and here.Asia's most corrupt countries:1. India2. Vietnam3. Thailandhttps://t.co/JElXSD0DWV pic.twitter.com/mnko569jh7— Forbes (@Forbes) November 19, 2017 Forbes announced this list referring to the results of an 18-month-long survey conducted by global civil society organisation, Transparency International. With a higher bribery rate percentage of 69%, India was listed as the most corrupt country in Asia by Forbes. Referring to the bribery rates in India, the Forbes article said, “In five of the six public services – schools, hospitals, ID documents, police, and utility services – more than half the respondents have had to pay a bribe.”The ‘Global Corruption Barometer Asia 2020’ and other latest reports published by Transparency International stated- “India has the highest overall bribery rate (39 per cent) and the highest rate of citizens using personal connections (46 per cent). Following India, Indonesia and China have the second and third highest rates of people using personal connections (36 per cent and 32 per cent respectively)”. While India still continues to be Asia’s most corrupt country with respect to the bribery rate percentages as per Transparency International, when it comes to the Global Corruption Perceptions Index 2021, India is ranked 85th, a much better position when compared to North Korea, Vietnam, Indonesia, Sri Lanka and other Asian countries. North Korea ranked 174th position in the Global Corruption Perceptions survey conducted on 180 countries.Lately, Forbes did not publish any report mentioning India as the most corrupt country in Asia. ‘The World’s Best And Worst Countries For Public Sector Corruption [Infographic]’ report published by Forbes in 2021 also did not mention India as one of the most corrupt countries.To sum it up, an old news clipping reporting the news of Forbes listing India as Asia’s most corrupt country in 2017 is shared as a recent one. \n",
      "\n",
      "Nature of the article: MISLEADING\n",
      "\n",
      "\n",
      "\n"
     ]
    },
    {
     "name": "stdout",
     "output_type": "stream",
     "text": [
      "Article: \n",
      "A collage of a few photos is being shared widely on social media with a claim that it shows the difference between the prison cells of Savarkar on one hand, and Gandhi and Nehru on the other hand. The prison cells are being compared and it is being claimed that while Gandhi and Nehru got VIP facilities, Savarkar got none. Let’s fact-check the claim made in the post.Claim: Comparison of prison cells – while Gandhi and Nehru got VIP facilities, Savarkar got none.Fact: The posted pictures are true [Cellular Jail (Savarkar between 1911-21), Ahmednagar Fort Jail (Nehru between 1942-45), and Aga Khan Palace (Gandhi between 1942-44)]. However, the comparison of prison cells made in the post is misleading. Savarkar was moved to the Cellular jail as he attempted an escape and was sentenced to 50 years in prison (two life terms). But Nehru and Gandhi did not receive any such sentence, they were only arrested in connection with the Quit India movement. Hence the claim made in the post is MISLEADING.Savarkar:The posted photo is related to Savarkar’s cell at the Cellular Jail in Andaman and Nicobar Islands. Some more photos of Savarkar’s cell can be seen here and here. Details of the case related to Savarkar’s arrest can be read here, here, and here.Savarkar was moved to the Cellular jail as he attempted an escape and was sentenced to 50 years in prison (two life terms), he was there from 1911 to 1921. Savarkar wrote in his book that he was sent to Ratnagiri in 1921, and then to the Yerawada Jail in 1923. Finally, he was released in 1924. The same can be read in an article on the Rajya Sabha TV website and in the Lok Sabha document.Nehru:The room in the posted photo is where Nehru was kept in the Ahmednagar Fort Prison. The same room can also be seen in a video taken at the Ahmednagar Fort.He was in the Ahmednagar Fort Prison only between 09 August 1942 and 15 June 1945. On the Nehru portal, it can be read that “Jawaharlal Nehru was imprisoned nine times during the freedom struggle and was in jail for 3259 days”. He was kept in various prison cells. Some photos related to those prison cells can be seen on that portal.Gandhi:The photo given in the post regarding Gandhi was taken in the Aga Khan Palace. It was found that Gandhi was kept there between 1942 and 1944 in connection with the Quit India Movement (1942).The details of places where Gandhi was prisoned at different times can be seen here,While the pictures are true, the comparison is misleading. Savarkar was moved to the Cellular jail as he attempted an escape and was sentenced to 50 years in prison (two life terms). But Nehru and Gandhi were not sentenced accordingly, and they were only arrested in connection with the Quit India movement. Not only Gandhi and Nehru, even leaders like Maulana Abul Kalam Azad, Sardar Patel, and others were kept in similar jails.To sum it up, this comparison of prison cells related to Savarkar, Gandhi, and Nehru is misleading. \n",
      "\n",
      "Nature of the article: MISLEADING\n",
      "\n",
      "\n",
      "\n",
      "Article: \n",
      "A post which shows a cylindrical shape cloud formation is widely shared on social media. The post claims that clouds are pulling water from the River Ganga in Sangham, Prayagraj. Let’s fact-check the claims.Claim: Clouds pulling water from the Ganga river in Prayagraj.Fact: This is an old video from 2018, and the phenomenon shown in the video occurred in Pune. This phenomenon is known as Waterspout, and usually occurs in tropical conditions. Waterspout does not suck water from the waterbody as the post claims. Hence the claims made in the post are MISLEADING.A reverse image search with the screenshots of the video led us to a YouTube post which contains the same video as in the now viral post. The post description says that this happened in Pune near Nazre Dam.After searching the internet with relevant keywords, we found a few news reports that confirm this. As per these reports,this phenomenon had happened at Nazre Dam in Pune. These news reports from 2018 can be read here, here and here. Additionally, searching on the internet to see if such an incident had recently happened in Prayagraj has not yielded any relevant results.Are the clouds really sucking water?The viral post claims that in the video, the clouds are sucking water from the river. To understand this, we searched the internet to discover this phenomenon. The naturally occurring phenomenon seen in the video is known as Waterspout. Multiple videos and images on the internet match the occurrence shown in the video, and they are videos of waterspouts formed over various waterbodies across the globe. These videos can be seen here, here and here. National Geographic states,’ A waterspout is a column of cloud-filled wind rotating over a body of water.’ An article published on their website mentions, ‘Despite its name, a waterspout is not filled with water from the ocean or lake.’Further, it reads that Waterspout descends from a cumulus cloud. It does not “spout” from the water. From this evidence, we can conclude that water is not getting sucked by the clouds in the video. Further information about Waterspout and its types can be found here and here.To summarise, this video which shows a waterspout like incident is not from Allahabad; it is an old video captured in 2018 at Pune. \n",
      "\n",
      "Nature of the article: MISLEADING.\n",
      "\n",
      "\n",
      "\n"
     ]
    }
   ],
   "source": [
    "for article_url in articles:\n",
    "    if \"review:\" not in article_url and \"data:\" not in article_url and \"explainer:\" not in article_url:\n",
    "        article_req = Request(article_url, headers={'User-Agent': 'Mozilla/5.0'})\n",
    "        article_page = urlopen(article_req)\n",
    "        article_html = article_page.read().decode(\"utf-8\")\n",
    "        article_soup = BeautifulSoup(article_html, \"html.parser\")\n",
    "        article_content = article_soup.find(class_ = \"post-content-right\").get_text()\n",
    "        article_nature = article_soup.find(\"blockquote\").find_all(\"strong\")[2].get_text()\n",
    "        print(f\"Article: \\n{article_content}\\n\")\n",
    "        print(f\"Nature of the article: {article_nature}\")\n",
    "        print(\"\\n\\n\")"
   ]
  },
  {
   "cell_type": "code",
   "execution_count": null,
   "id": "83f47455",
   "metadata": {},
   "outputs": [],
   "source": []
  }
 ],
 "metadata": {
  "kernelspec": {
   "display_name": "Python 3 (ipykernel)",
   "language": "python",
   "name": "python3"
  },
  "language_info": {
   "codemirror_mode": {
    "name": "ipython",
    "version": 3
   },
   "file_extension": ".py",
   "mimetype": "text/x-python",
   "name": "python",
   "nbconvert_exporter": "python",
   "pygments_lexer": "ipython3",
   "version": "3.9.6"
  }
 },
 "nbformat": 4,
 "nbformat_minor": 5
}
